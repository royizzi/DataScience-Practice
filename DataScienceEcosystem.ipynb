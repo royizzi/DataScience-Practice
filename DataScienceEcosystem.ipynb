{
  "metadata": {
    "kernelspec": {
      "name": "python",
      "display_name": "Python (Pyodide)",
      "language": "python"
    },
    "language_info": {
      "codemirror_mode": {
        "name": "python",
        "version": 3
      },
      "file_extension": ".py",
      "mimetype": "text/x-python",
      "name": "python",
      "nbconvert_exporter": "python",
      "pygments_lexer": "ipython3",
      "version": "3.8"
    }
  },
  "nbformat_minor": 5,
  "nbformat": 4,
  "cells": [
    {
      "id": "acc5b4b0-71b0-4d5e-a711-44da709bba42",
      "cell_type": "markdown",
      "source": "# Data Science Tools and Ecosystem\n",
      "metadata": {}
    },
    {
      "id": "383485bb-a04e-4afb-99aa-62a34bd23f89",
      "cell_type": "markdown",
      "source": "In this notebook, Data Science Tools and Ecosystem are summarized.",
      "metadata": {}
    },
    {
      "id": "ba03bad2-4ddf-4bce-bb99-8271a4f5f83e",
      "cell_type": "markdown",
      "source": "__Objectives:__\n- List Popular languages for Data Science\n- List Popular Libraries for Data Science\n- List Open Source Data Science Tools\n- Simple Arithmetics",
      "metadata": {}
    },
    {
      "id": "085cfad5-b7a8-49d9-a01e-1fbbd4f34a70",
      "cell_type": "markdown",
      "source": "Some of the popular languages that Data Scientists use are:\n1. Phyton\n2. R\n3. SQL",
      "metadata": {}
    },
    {
      "id": "e2929026-db84-4f8d-bb80-811578bf2d3e",
      "cell_type": "markdown",
      "source": "Some of the commonly used libraries used by Data Scientists include:\n1. Numpy\n2. Plotly\n3. Tensorflow",
      "metadata": {}
    },
    {
      "id": "de1b0173-a30d-4796-9961-23814bbbe782",
      "cell_type": "markdown",
      "source": " | Data Science Tools|\n | ------ |\n |Jupyter Notebook|\n |Rstudio|\n |Apache|",
      "metadata": {}
    },
    {
      "id": "3572138f-e4a3-4a25-809a-64d26084ef2c",
      "cell_type": "markdown",
      "source": "### Below are a few examples of evaluating arithmetic expressions in Python.\n",
      "metadata": {}
    },
    {
      "id": "e8ef1a53-0387-4778-af3c-5c878ab0106d",
      "cell_type": "code",
      "source": "# This a simple arithmetic expression to mutiply then add integers\n(3*4)+5\n",
      "metadata": {
        "trusted": true
      },
      "outputs": [
        {
          "execution_count": 12,
          "output_type": "execute_result",
          "data": {
            "text/plain": "17"
          },
          "metadata": {}
        }
      ],
      "execution_count": 12
    },
    {
      "id": "09c17acb-3720-42ec-9e9e-26b43a651df5",
      "cell_type": "code",
      "source": "# This will convert 200 minutes to hours by diving by 60\n200/60",
      "metadata": {
        "trusted": true
      },
      "outputs": [
        {
          "execution_count": 13,
          "output_type": "execute_result",
          "data": {
            "text/plain": "3.3333333333333335"
          },
          "metadata": {}
        }
      ],
      "execution_count": 13
    },
    {
      "id": "08967fac-9b4c-4c2e-a0e9-4f8b610eb799",
      "cell_type": "markdown",
      "source": "## Author\nAmmar Izzi",
      "metadata": {}
    },
    
      "outputs": [],
      "execution_count": null
    }
  ]
}
